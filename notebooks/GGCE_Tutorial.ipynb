{
  "nbformat": 4,
  "nbformat_minor": 0,
  "metadata": {
    "colab": {
      "provenance": []
    },
    "kernelspec": {
      "name": "python3",
      "display_name": "Python 3"
    },
    "language_info": {
      "name": "python"
    }
  },
  "cells": [
    {
      "cell_type": "markdown",
      "source": [
        "<div align=\"center\">\n",
        "\n",
        "# The Generalized Green's function Cluster Expansion (GGCE)\n",
        "\n",
        "CCQ Polaron Meeting @ _Flatiron Institute_ | 16 May 2023\n",
        "\n",
        "---\n",
        "\n",
        "**[Matthew R. Carbone](https://matthewcarbone.github.io)** & Stepan Fomichev (equally contributing core developers)\n",
        "\n",
        "Andrew J. Millis, Mona Berciu, David R. Reichman, and John Sous\n",
        "\n",
        "---\n",
        "\n",
        "Our manuscript is under review at the Journal of Open Source Software. [Check it out!](https://github.com/openjournals/joss-reviews/issues/5115) You can also find our preprint (citable DOI) on the [arXiv](https://arxiv.org/abs/2210.12260). Software is available open source on GitHub under the BSD 3-clause license: [github.com/matthewcarbone/GGCE](https://github.com/matthewcarbone/GGCE).\n",
        "\n",
        "---\n",
        "\n",
        "</div>"
      ],
      "metadata": {
        "id": "yks37SlE-qfQ"
      }
    },
    {
      "cell_type": "markdown",
      "source": [
        "⭐️ **Purpose:** compute the Green's function of lattice polaron models\n",
        "\n",
        "🎓 **What you will learn:** how to use the software to compute Green's functions. This tutorial will walk you through the basics of the API and how you can use our code in your own work.\n",
        "\n",
        "🚀 **Quick reference**\n",
        "\n",
        "* The GGCE software provides an efficient implementation of the GGCE method as outlined in our original paper: [Carbone, Reichman & Sous. PRB **104**, 035106 (2021)](https://doi.org/10.1103/PhysRevB.104.035106).\n",
        "* Followup work on the Bond-Peierls model: [Carbone, Millis, Reichman & Sous. PRB **104**, L140307 (2021)](https://doi.org/10.1103/PhysRevB.104.L140307).\n",
        "* The GGCE approach is the spiritual successor of the Momentum Average (MA) family of methods pioneered by [Mona Berciu](https://phas.ubc.ca/~berciu/). A small sampling:\n",
        "    * [Berciu. PRL **97**, 036402 (2006)](https://doi.org/10.1103/PhysRevLett.97.036402): original paper (_k_-space formulation).\n",
        "    * [Berciu & Fehske. PRB **82**, 085116 (2010)](https://doi.org/10.1103/PhysRevB.82.085116): an application of the MA method to the Edwards Fermion Boson model."
      ],
      "metadata": {
        "id": "SdT-iBwX0knp"
      }
    },
    {
      "cell_type": "code",
      "execution_count": null,
      "metadata": {
        "id": "31_MdsT5xdo3"
      },
      "outputs": [],
      "source": [
        "import numpy as np\n",
        "import matplotlib.pyplot as plt"
      ]
    },
    {
      "cell_type": "markdown",
      "source": [
        "`GGCE` is easily installable via Pip!"
      ],
      "metadata": {
        "id": "1Jv0Qyij3I-m"
      }
    },
    {
      "cell_type": "code",
      "source": [
        "!pip install ggce"
      ],
      "metadata": {
        "id": "tEpEAbuzxjww"
      },
      "execution_count": null,
      "outputs": []
    },
    {
      "cell_type": "markdown",
      "source": [
        "## The Model API"
      ],
      "metadata": {
        "id": "ARgXjvQL1ZQ9"
      }
    },
    {
      "cell_type": "markdown",
      "source": [
        "A `Model` class is a simple abstraction for an electron-phonon coupling Hamiltonian of the form\n",
        "\n",
        "$$ H = -t \\sum_{\\langle ij \\rangle} c_i^\\dagger c_j + \\Omega \\sum_i b_i^\\dagger b_i + V,$$\n",
        "\n",
        "where $V$ is an electron-phonon coupling operator which is quadratic in the fermionic operators and linear in phonon operators. Currently, GGCE supports the following well known Hamiltonians:\n",
        "\n",
        "* Holstein\n",
        "* Peierls\n",
        "* Edwards Fermion Boson\n",
        "* Bond-Peierls\n",
        "\n",
        "The `Model` should always be initialized as such:"
      ],
      "metadata": {
        "id": "-rq8sjM01bES"
      }
    },
    {
      "cell_type": "code",
      "source": [
        "from ggce import Model\n",
        "model = Model.from_parameters(hopping=0.1)"
      ],
      "metadata": {
        "id": "cc2M0HRy2Jso"
      },
      "execution_count": null,
      "outputs": []
    },
    {
      "cell_type": "markdown",
      "source": [
        "One can set physical parameters such as\n",
        "\n",
        "* the `hopping` strength $t$\n",
        "* the `lattice_constant` (generally should just be 1)\n",
        "* the `temperature` (GGCE is now able to compute finite-temperature spectra using the thermofield double approach)\n",
        "\n",
        "You can always check out the docstring of any function/method by using the `?` notebook magic, e.g., `Model.from_parameters?`."
      ],
      "metadata": {
        "id": "iOGRfXvJ2Q_1"
      }
    },
    {
      "cell_type": "markdown",
      "source": [
        "Once the model is created, one must \"add\" coupling terms using the `add_` method. Why this particular choice of abstraction? It allows you to add multiple phonon modes of different types, frequencies and coupling strengths."
      ],
      "metadata": {
        "id": "pyWBtJvgBPFO"
      }
    },
    {
      "cell_type": "code",
      "source": [
        "model.add_(\n",
        "    \"EdwardsFermionBoson\",\n",
        "    phonon_extent=3,\n",
        "    phonon_number=9,\n",
        "    phonon_frequency=1.25,\n",
        "    dimensionless_coupling_strength=2.5\n",
        ")"
      ],
      "metadata": {
        "id": "93FDUElDxzIu"
      },
      "execution_count": null,
      "outputs": []
    },
    {
      "cell_type": "code",
      "source": [
        "model.visualize()"
      ],
      "metadata": {
        "colab": {
          "base_uri": "https://localhost:8080/"
        },
        "id": "G2u4R2WVx1P4",
        "outputId": "a6cd5295-7ea0-4ea8-c6f5-173cd7d1dfdb"
      },
      "execution_count": null,
      "outputs": [
        {
          "output_type": "stream",
          "name": "stdout",
          "text": [
            "Hamiltonian parameters:\n",
            "  Hopping (t)          = 1.00e-01\n",
            "  Lattice constant (a) = 1.00e+00\n",
            "  Temperature (T)      = 0.00e+00\n",
            "  Max bosons per site  = None\n",
            "  Absolute extent      = 3\n",
            "Terms:\n",
            "  Phonon type = 0 (M = 3; N = 9)\n",
            "    EdwardsFermionBoson: 2.50 x ([1] [1] +) | 0 (1.25)\n",
            "    EdwardsFermionBoson: 2.50 x ([-1] [-1] +) | 0 (1.25)\n",
            "    EdwardsFermionBoson: 2.50 x ([1] [0] -) | 0 (1.25)\n",
            "    EdwardsFermionBoson: 2.50 x ([-1] [0] -) | 0 (1.25)\n"
          ]
        }
      ]
    },
    {
      "cell_type": "code",
      "source": [
        "from ggce import System"
      ],
      "metadata": {
        "id": "Ldp2_5Qxx2Rt"
      },
      "execution_count": null,
      "outputs": []
    },
    {
      "cell_type": "code",
      "source": [
        "system = System(model)"
      ],
      "metadata": {
        "colab": {
          "base_uri": "https://localhost:8080/"
        },
        "id": "AchDFCuFyJKm",
        "outputId": "4bb9f0a5-677b-4b93-eb50-310d095e90a1"
      },
      "execution_count": null,
      "outputs": [
        {
          "output_type": "stream",
          "name": "stdout",
          "text": [
            "\u001b[38;2;128;128;128m2023-05-14 15:02:17\u001b[0m \u001b[1mPredicted 166 generalized equations (agrees with analytic formula)\u001b[0m\n",
            "\u001b[38;2;128;128;128m2023-05-14 15:02:17.230 ggce.engine.system:checkpoint:307\u001b[0m |\u001b[33m\u001b[1mWARNING   \u001b[0m| \u001b[33m\u001b[1mroot not provided to System - System checkpointing disabled\u001b[0m\n",
            "\u001b[38;2;128;128;128m2023-05-14 15:02:18\u001b[0m \u001b[1mGenerated 771 total equations\u001b[0m\n",
            "\u001b[38;2;128;128;128m2023-05-14 15:02:18.760 ggce.engine.system:checkpoint:307\u001b[0m |\u001b[33m\u001b[1mWARNING   \u001b[0m| \u001b[33m\u001b[1mroot not provided to System - System checkpointing disabled\u001b[0m\n",
            "\u001b[38;2;128;128;128m2023-05-14 15:02:18\u001b[0m \u001b[1mClosure checked and valid\u001b[0m\n"
          ]
        }
      ]
    },
    {
      "cell_type": "code",
      "source": [
        "from ggce import DenseSolver"
      ],
      "metadata": {
        "id": "sbuK9NWuyKEU"
      },
      "execution_count": null,
      "outputs": []
    },
    {
      "cell_type": "code",
      "source": [
        "solver = DenseSolver(system)"
      ],
      "metadata": {
        "colab": {
          "base_uri": "https://localhost:8080/"
        },
        "id": "rg3yS3_myQib",
        "outputId": "e677cf3e-dc7d-4194-e72f-56080b943c7e"
      },
      "execution_count": null,
      "outputs": [
        {
          "output_type": "stream",
          "name": "stdout",
          "text": [
            "\u001b[38;2;128;128;128m2023-05-14 15:02:44.295 ggce.executors.solvers:__init__:66\u001b[0m |\u001b[33m\u001b[1mWARNING   \u001b[0m| \u001b[33m\u001b[1mroot not provided to Solver - Solver checkpointing disabled\u001b[0m\n"
          ]
        }
      ]
    },
    {
      "cell_type": "code",
      "source": [
        "k = np.array([0.0])\n",
        "w = np.linspace(-3.0, -1.0, 100)\n",
        "G = solver.greens_function(k, w, eta=0.005, pbar=True)\n",
        "A = -G.imag / np.pi"
      ],
      "metadata": {
        "colab": {
          "base_uri": "https://localhost:8080/"
        },
        "id": "Qdio-r67yQ4B",
        "outputId": "e9a7b3e9-0a1e-4f62-fcf7-1b8c376597e7"
      },
      "execution_count": null,
      "outputs": [
        {
          "output_type": "stream",
          "name": "stderr",
          "text": [
            "100%|██████████| 100/100 [01:53<00:00,  1.13s/it]\n"
          ]
        }
      ]
    },
    {
      "cell_type": "code",
      "source": [
        "fig, ax = plt.subplots(1, 1, figsize=(6, 4))\n",
        "ax.plot(w, A.squeeze())\n",
        "plt.show()"
      ],
      "metadata": {
        "colab": {
          "base_uri": "https://localhost:8080/",
          "height": 388
        },
        "id": "JABXUF7KyUIN",
        "outputId": "c3642d24-721d-4d4a-a6e9-69bca7aa7ff5"
      },
      "execution_count": null,
      "outputs": [
        {
          "output_type": "display_data",
          "data": {
            "text/plain": [
              "<Figure size 600x400 with 1 Axes>"
            ],
            "image/png": "[encoded data removed]"
          },
          "metadata": {}
        }
      ]
    },
    {
      "cell_type": "code",
      "source": [],
      "metadata": {
        "id": "aq6yYVHjy2A3"
      },
      "execution_count": null,
      "outputs": []
    }
  ]
}