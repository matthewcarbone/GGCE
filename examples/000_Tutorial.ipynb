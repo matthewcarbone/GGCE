{
 "cells": [
  {
   "cell_type": "code",
   "execution_count": null,
   "metadata": {},
   "outputs": [],
   "source": [
    "%load_ext autoreload\n",
    "%autoreload 2"
   ]
  },
  {
   "cell_type": "code",
   "execution_count": null,
   "metadata": {},
   "outputs": [],
   "source": [
    "import numpy as np\n",
    "import matplotlib as mpl\n",
    "import matplotlib.pyplot as plt\n",
    "mpl.rcParams['mathtext.fontset'] = 'stix'\n",
    "mpl.rcParams['font.family'] = 'STIXGeneral'\n",
    "mpl.rcParams['text.usetex'] = True\n",
    "mpl.rcParams['figure.dpi'] = 250"
   ]
  },
  {
   "cell_type": "markdown",
   "metadata": {},
   "source": [
    "If you load this notebook from within the `examples` directory, you'll have to append the path before `import ggce`. Otherwise, this cell below will not be necessary. You can safely run it either way."
   ]
  },
  {
   "cell_type": "code",
   "execution_count": null,
   "metadata": {},
   "outputs": [],
   "source": [
    "import sys\n",
    "\n",
    "try:\n",
    "    import ggce\n",
    "except ModuleNotFoundError:\n",
    "    sys.path.append(\"..\")\n",
    "    import ggce"
   ]
  },
  {
   "cell_type": "markdown",
   "metadata": {},
   "source": [
    "# Generalized Green's function Cluster Expansion (GGCE) intro API tutorial"
   ]
  },
  {
   "cell_type": "markdown",
   "metadata": {},
   "source": [
    "The `GGCE` package is intended as a platform for solving zero and finite-temperature lattice model Hamiltonians within the Generalized Green's function Cluster Expansion method, explained in this [arXiv preprint](https://arxiv.org/pdf/2103.01972.pdf) and published work in Physical Review B (COMING SOON). It is based on the original work of Mona Berciu and coworkers, in which they developed the so-called Momentum Average (MA) Approximation, which leverages the ansatz that many electron-phonon models of interest create phonons in clouds. See for example [Berciu, PRL 2006](https://journals.aps.org/prl/pdf/10.1103/PhysRevLett.97.036402?casa_token=Qgfh9yLpKxoAAAAA%3AuLUpBffSY1sXarw47zqfPH6zE-cz31KHst66aLjrRRRcbjocbcoWmrfGgWXsqWN0iXFSft27KkQy) and [Berciu \\& Fehske, PRB 2010](https://journals.aps.org/prb/pdf/10.1103/PhysRevB.82.085116?casa_token=UvmWaAZ2HdgAAAAA%3Az60SeGb-LgHaj9FrHDCyl_hHlJ9TNc3Vkoa8KcGMWcD7U_hc1ZF5KzJEb4neJsfQFdjIdi8WDJy7)."
   ]
  },
  {
   "cell_type": "markdown",
   "metadata": {},
   "source": [
    "## Theory\n",
    "TODO"
   ]
  },
  {
   "cell_type": "markdown",
   "metadata": {},
   "source": [
    "## Example $T=0$ calculations"
   ]
  },
  {
   "cell_type": "markdown",
   "metadata": {},
   "source": [
    "We demonstrate the GGCE method on an example from [Berciu \\& Fehske, PRB 2010](https://journals.aps.org/prb/pdf/10.1103/PhysRevB.82.085116?casa_token=UvmWaAZ2HdgAAAAA%3Az60SeGb-LgHaj9FrHDCyl_hHlJ9TNc3Vkoa8KcGMWcD7U_hc1ZF5KzJEb4neJsfQFdjIdi8WDJy7). Specifically, we reproduce the results in Figure 5 (middle) for $k=\\pi/2.$ This literature data has been manually ripped from the paper using [WebPlotDigitizer](https://apps.automeris.io/wpd/)."
   ]
  },
  {
   "cell_type": "code",
   "execution_count": null,
   "metadata": {},
   "outputs": [],
   "source": [
    "literature_data = np.loadtxt(\"000_example_A.txt\")"
   ]
  },
  {
   "cell_type": "markdown",
   "metadata": {},
   "source": [
    "First, we import the `SerialSparseExecutor`, which will take care of constructing the linear system and solving it in sparse representation. We also import the `SerialDenseExecutor`, which will perform the same solve but in dense representation."
   ]
  },
  {
   "cell_type": "code",
   "execution_count": null,
   "metadata": {},
   "outputs": [],
   "source": [
    "from ggce.executors import SerialSparseExecutor, SerialDenseExecutor"
   ]
  },
  {
   "cell_type": "markdown",
   "metadata": {},
   "source": [
    "The `system_params` dictionary varies significantly depending on the type of calculation desired, but follows the same general principles. The following five elements are all lists.\n",
    "* `model` indicates the types of couplings in the electron-phonon Hamiltonian. For example, `[\"H\"]` corresponds to a Holstein coupling term, $V = g \\sum_i c_i^\\dagger c_i (b_i^\\dagger + b_i).$ `[\"H\", \"SSH\"]` corresponds to a two-phonon mode coupling, in which the phonon operators are distinguishable for each coupling mode. Note that this doubles the Hilbert space size and therefore significantly increases the computational complexity of the calculation.\n",
    "* `M_extent` indicates the maximum boson cloud size. For example, if $M=3,$ terms like $b_i^\\dagger (b_{i+2}^\\dagger)^2$ would be retained in the equation of motion, but terms like $b_i^\\dagger b_{i+1}^\\dagger b_{i+3}^\\dagger$ would not.\n",
    "* `N_bosons` indicates the maximum number of phonons allowed in any auxiliary equation. Any terms containing an auxiliary equation with more than that many phonons has coefficient set to zero, and is not included.\n",
    "* `Omega` is the Einstein phonon frequencies.\n",
    "* `dimensionless_coupling` is the dimensionles coupling term, which fixes `g` and depends on the model type.\n",
    "\n",
    "Note that the length of all the provided lists above should **equal the total number of terms in the `model` list**. For example in the case of `[\"H\", \"SSH\"]`, the first element of `Omega` is the phonon frequency corresponding to the Holstein term, and the second corresponds to the SSH term."
   ]
  },
  {
   "cell_type": "code",
   "execution_count": null,
   "metadata": {},
   "outputs": [],
   "source": [
    "system_params = {\n",
    "    \"model\": [\"EFB\"],\n",
    "    \"M_extent\": [3],\n",
    "    \"N_bosons\": [9],\n",
    "    \"Omega\": [1.25],\n",
    "    \"dimensionless_coupling\": [2.5],\n",
    "    \"hopping\": 0.1,\n",
    "    \"broadening\": 0.005,\n",
    "    \"protocol\": \"zero temperature\"\n",
    "}\n",
    "\n",
    "executor_dense = SerialDenseExecutor(system_params, \"info\")\n",
    "executor_dense.prime()\n",
    "\n",
    "executor_sparse = SerialSparseExecutor(system_params, \"info\")\n",
    "executor_sparse.prime()"
   ]
  },
  {
   "cell_type": "code",
   "execution_count": null,
   "metadata": {},
   "outputs": [],
   "source": [
    "wgrid = np.linspace(-5.5, -2.5, 100)\n",
    "\n",
    "spectrum_sparse = [executor_sparse.solve(0.5 * np.pi, w) for w in wgrid]\n",
    "spectrum_sparse = np.array([-s[0].imag / np.pi for s in spectrum_sparse])\n",
    "\n",
    "spectrum_dense = [executor_dense.solve(0.5 * np.pi, w) for w in wgrid]\n",
    "spectrum_dense = np.array([-s[0].imag / np.pi for s in spectrum_dense])"
   ]
  },
  {
   "cell_type": "markdown",
   "metadata": {},
   "source": [
    "We can plot the results and show clearly that the results are the same, and barring normalizations due to different grid spacings, identical to the literature results."
   ]
  },
  {
   "cell_type": "code",
   "execution_count": null,
   "metadata": {},
   "outputs": [],
   "source": [
    "fig, ax = plt.subplots(1, 1, figsize=(3, 2))\n",
    "ax.plot(wgrid, spectrum_sparse / spectrum_sparse.max(), 'k')\n",
    "ax.plot(wgrid, spectrum_dense / spectrum_dense.max(), 'b--')\n",
    "ax.plot(literature_data[:, 0], literature_data[:, 1], 'r--', linewidth=0.5)\n",
    "ax.set_ylabel(\"$A(\\pi/2, \\omega) / \\max A(\\pi/2, \\omega)$\")\n",
    "ax.set_xlabel(\"$\\omega$\")\n",
    "plt.show()"
   ]
  }
 ],
 "metadata": {
  "kernelspec": {
   "display_name": "Python 3",
   "language": "python",
   "name": "python3"
  },
  "language_info": {
   "codemirror_mode": {
    "name": "ipython",
    "version": 3
   },
   "file_extension": ".py",
   "mimetype": "text/x-python",
   "name": "python",
   "nbconvert_exporter": "python",
   "pygments_lexer": "ipython3",
   "version": "3.7.10"
  },
  "toc": {
   "base_numbering": 1,
   "nav_menu": {},
   "number_sections": true,
   "sideBar": true,
   "skip_h1_title": false,
   "title_cell": "Table of Contents",
   "title_sidebar": "Contents",
   "toc_cell": false,
   "toc_position": {
    "height": "calc(100% - 180px)",
    "left": "10px",
    "top": "150px",
    "width": "165px"
   },
   "toc_section_display": true,
   "toc_window_display": true
  }
 },
 "nbformat": 4,
 "nbformat_minor": 4
}
