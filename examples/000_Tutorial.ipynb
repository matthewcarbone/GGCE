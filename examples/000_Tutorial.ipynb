{
 "cells": [
  {
   "cell_type": "code",
   "execution_count": null,
   "metadata": {},
   "outputs": [],
   "source": [
    "%load_ext autoreload\n",
    "%autoreload 2"
   ]
  },
  {
   "cell_type": "code",
   "execution_count": null,
   "metadata": {},
   "outputs": [],
   "source": [
    "import numpy as np\n",
    "import matplotlib as mpl\n",
    "import matplotlib.pyplot as plt\n",
    "mpl.rcParams['mathtext.fontset'] = 'stix'\n",
    "mpl.rcParams['font.family'] = 'STIXGeneral'\n",
    "mpl.rcParams['text.usetex'] = True\n",
    "mpl.rcParams['figure.dpi'] = 250"
   ]
  },
  {
   "cell_type": "markdown",
   "metadata": {},
   "source": [
    "If you load this notebook from within the `examples` directory, you'll have to append the path before `import ggce`. Otherwise, this cell below will not be necessary. You can safely run it either way."
   ]
  },
  {
   "cell_type": "code",
   "execution_count": null,
   "metadata": {},
   "outputs": [],
   "source": [
    "import sys\n",
    "\n",
    "try:\n",
    "    import ggce\n",
    "except ModuleNotFoundError:\n",
    "    sys.path.append(\"..\")\n",
    "    import ggce"
   ]
  },
  {
   "cell_type": "markdown",
   "metadata": {},
   "source": [
    "# Generalized Green's function Cluster Expansion (GGCE) intro API tutorial"
   ]
  },
  {
   "cell_type": "markdown",
   "metadata": {},
   "source": [
    "The `GGCE` package is intended as a platform for solving zero and finite-temperature lattice model Hamiltonians within the Generalized Green's function Cluster Expansion method, explained in this [arXiv preprint](https://arxiv.org/pdf/2103.01972.pdf) and published work in Physical Review B (COMING SOON). It is based on the original work of Mona Berciu and coworkers, in which they developed the so-called Momentum Average (MA) Approximation, which leverages the ansatz that many electron-phonon models of interest create phonons in clouds. See for example [Berciu, PRL 2006](https://journals.aps.org/prl/pdf/10.1103/PhysRevLett.97.036402?casa_token=Qgfh9yLpKxoAAAAA%3AuLUpBffSY1sXarw47zqfPH6zE-cz31KHst66aLjrRRRcbjocbcoWmrfGgWXsqWN0iXFSft27KkQy) and [Berciu \\& Fehske, PRB 2010](https://journals.aps.org/prb/pdf/10.1103/PhysRevB.82.085116?casa_token=UvmWaAZ2HdgAAAAA%3Az60SeGb-LgHaj9FrHDCyl_hHlJ9TNc3Vkoa8KcGMWcD7U_hc1ZF5KzJEb4neJsfQFdjIdi8WDJy7)."
   ]
  },
  {
   "cell_type": "markdown",
   "metadata": {},
   "source": [
    "## Theory\n",
    "TODO"
   ]
  },
  {
   "cell_type": "markdown",
   "metadata": {},
   "source": [
    "## The `Model` object"
   ]
  },
  {
   "cell_type": "markdown",
   "metadata": {},
   "source": [
    "Before diving into the solvers, we should first examine how to construct a model which is compatible with the `GGCE` framework. A `GGCE` `Model()` class can be initialized with all information the solvers need to compute Green's functions. Let's take an example."
   ]
  },
  {
   "cell_type": "code",
   "execution_count": null,
   "metadata": {},
   "outputs": [],
   "source": [
    "from ggce.model import Model"
   ]
  },
  {
   "cell_type": "markdown",
   "metadata": {},
   "source": [
    "First, we initialize the `Model()` with a name, and some logging information."
   ]
  },
  {
   "cell_type": "code",
   "execution_count": null,
   "metadata": {},
   "outputs": [],
   "source": [
    "model = Model(\"my_model\", \"info\", log_file=None)"
   ]
  },
  {
   "cell_type": "markdown",
   "metadata": {},
   "source": [
    "Next, we can initialize some default parameters, such as the hopping, dimension (NOTE currently this can only be 1), lattice constant and temperature."
   ]
  },
  {
   "cell_type": "code",
   "execution_count": null,
   "metadata": {},
   "outputs": [],
   "source": [
    "model.set_parameters(hopping=1.0, lattice_constant=1.0, temperature=0.0, dimension=1, max_bosons_per_site=None)"
   ]
  },
  {
   "cell_type": "markdown",
   "metadata": {},
   "source": [
    "Finally, we get to the important parts: defining which electron-phonon couplings to use. Currently, there are four defaults defined in `ggce.model`: `Holstein`, `EdwardsFermionBoson`, `Peierls` and `BondPeierls`. Consider a simple Holstein model, with GGCE maximum cloud extent of 3 and maximum number of phonons 9. Some other notes on what some parameters are:\n",
    "* `M` indicates the maximum boson cloud size. For example, if $M=3,$ terms like $b_i^\\dagger (b_{i+2}^\\dagger)^2$ would be retained in the equation of motion, but terms like $b_i^\\dagger b_{i+1}^\\dagger b_{i+3}^\\dagger$ would not.\n",
    "* `N` indicates the maximum number of phonons allowed in any auxiliary equation. Any terms containing an auxiliary equation with more than that many phonons has coefficient set to zero, and is not included.\n",
    "* `Omega` is the Einstein phonon frequencies.\n",
    "* `dimensionless_coupling` is the dimensionless coupling term, which fixes `g` and depends on the model type."
   ]
  },
  {
   "cell_type": "code",
   "execution_count": null,
   "metadata": {},
   "outputs": [],
   "source": [
    "model.add_coupling(\"Holstein\", Omega=0.5, M=3, N=9, dimensionless_coupling=3.0)"
   ]
  },
  {
   "cell_type": "markdown",
   "metadata": {},
   "source": [
    "We can always `visualize()` the model to see what components make it up:"
   ]
  },
  {
   "cell_type": "code",
   "execution_count": null,
   "metadata": {},
   "outputs": [],
   "source": [
    "model.visualize()"
   ]
  },
  {
   "cell_type": "markdown",
   "metadata": {},
   "source": [
    "We can see right away that the Holstein term was successfully added. The coupling `g` multiplies the electron-phonon operators in the Hamiltonian and is calculated via solving $\\lambda = g^2 / 2\\Omega t$ for $g$ in the Holstein model. It is only presented to 5 decimal places. The user can override this `dimensionless_coupling` by specifying `g` explicitly as `coupling` instead. Note that specifying both or neither will log an error. Try that here:"
   ]
  },
  {
   "cell_type": "code",
   "execution_count": null,
   "metadata": {},
   "outputs": [],
   "source": [
    "model.add_coupling(\"Holstein\", Omega=0.5, M=3, N=9, dimensionless_coupling=3.0, coupling=1.0)"
   ]
  },
  {
   "cell_type": "markdown",
   "metadata": {},
   "source": [
    "### Multi-phonon mode models"
   ]
  },
  {
   "cell_type": "markdown",
   "metadata": {},
   "source": [
    "It is also possible to compute models like `Holstein+Peierls` within the `GGCE` framework. To do so, we simply add another coupling, and that is automatically registered as a \"different\" phonon frequency by default."
   ]
  },
  {
   "cell_type": "code",
   "execution_count": null,
   "metadata": {},
   "outputs": [],
   "source": [
    "model.add_coupling(\"Peierls\", Omega=0.8, M=2, N=4, dimensionless_coupling=2.0)"
   ]
  },
  {
   "cell_type": "code",
   "execution_count": null,
   "metadata": {},
   "outputs": [],
   "source": [
    "model.visualize()"
   ]
  },
  {
   "cell_type": "markdown",
   "metadata": {},
   "source": [
    "### Non-zero temperature models"
   ]
  },
  {
   "cell_type": "markdown",
   "metadata": {},
   "source": [
    "`GGCE` can also handle $T>0$! It does this via the Thermofield Double formalism, which makes the calculation much more expensive but in practice quite doable."
   ]
  },
  {
   "cell_type": "code",
   "execution_count": null,
   "metadata": {},
   "outputs": [],
   "source": [
    "model = Model(\"my_model2\", \"info\", log_file=None)\n",
    "model.set_parameters(hopping=1.0, lattice_constant=1.0, temperature=0.5, dimension=1, max_bosons_per_site=None)\n",
    "model.add_coupling(\"Holstein\", Omega=0.5, M=2, N=3, M_tfd=2, N_tfd=3, dimensionless_coupling=3.0)\n",
    "model.add_coupling(\"Peierls\", Omega=0.8, M=2, N=2, M_tfd=2, N_tfd=2, dimensionless_coupling=2.0)\n",
    "model.finalize()"
   ]
  },
  {
   "cell_type": "code",
   "execution_count": null,
   "metadata": {},
   "outputs": [],
   "source": [
    "model.visualize()"
   ]
  },
  {
   "cell_type": "code",
   "execution_count": null,
   "metadata": {},
   "outputs": [],
   "source": [
    "executor_dense = SerialDenseExecutor(model, \"info\")\n",
    "executor_dense.prime()"
   ]
  },
  {
   "cell_type": "markdown",
   "metadata": {},
   "source": [
    "The above would be absurdly expensive to run, but for demonstration purposes, look at the output of `visualize()`:"
   ]
  },
  {
   "cell_type": "code",
   "execution_count": null,
   "metadata": {},
   "outputs": [],
   "source": [
    "model.visualize()"
   ]
  },
  {
   "cell_type": "markdown",
   "metadata": {},
   "source": [
    "Notice the `g` values are all scrambled (by design, by TFD), the value for `Omega` is negative (!!) also by design, and the models are indexed by a tilde `~` to remind the viewer that those are the \"fictitious\" (often referred to as \"tilde\"-d) space models."
   ]
  },
  {
   "cell_type": "markdown",
   "metadata": {},
   "source": [
    "## Example $T=0$ calculations"
   ]
  },
  {
   "cell_type": "markdown",
   "metadata": {},
   "source": [
    "We demonstrate the GGCE method on an example from [Berciu \\& Fehske, PRB 2010](https://journals.aps.org/prb/pdf/10.1103/PhysRevB.82.085116?casa_token=UvmWaAZ2HdgAAAAA%3Az60SeGb-LgHaj9FrHDCyl_hHlJ9TNc3Vkoa8KcGMWcD7U_hc1ZF5KzJEb4neJsfQFdjIdi8WDJy7). Specifically, we reproduce the results in Figure 5 (middle) for $k=\\pi/2.$ This literature data has been manually ripped from the paper using [WebPlotDigitizer](https://apps.automeris.io/wpd/)."
   ]
  },
  {
   "cell_type": "code",
   "execution_count": null,
   "metadata": {},
   "outputs": [],
   "source": [
    "literature_data = np.loadtxt(\"000_example_A.txt\")"
   ]
  },
  {
   "cell_type": "markdown",
   "metadata": {},
   "source": [
    "First, we import the `SerialSparseExecutor`, which will take care of constructing the linear system and solving the entire system in a single shot in sparse representation. We also import the `SerialDenseExecutor`, which will perform the same solve but in dense representation using a continued fraction method."
   ]
  },
  {
   "cell_type": "code",
   "execution_count": null,
   "metadata": {},
   "outputs": [],
   "source": [
    "from ggce.executors.serial import SerialSparseExecutor, SerialDenseExecutor"
   ]
  },
  {
   "cell_type": "code",
   "execution_count": null,
   "metadata": {},
   "outputs": [],
   "source": [
    "model = Model()\n",
    "model.set_parameters(hopping=0.1)\n",
    "model.add_coupling(\"EdwardsFermionBoson\", Omega=1.25, M=3, N=9, dimensionless_coupling=2.5)\n",
    "\n",
    "executor_dense = SerialDenseExecutor(model, \"info\")\n",
    "executor_dense.prime()\n",
    "\n",
    "executor_sparse = SerialSparseExecutor(model, \"info\")\n",
    "executor_sparse.prime()"
   ]
  },
  {
   "cell_type": "markdown",
   "metadata": {},
   "source": [
    "Initialize the `k` and `w` grids for the calculation."
   ]
  },
  {
   "cell_type": "code",
   "execution_count": null,
   "metadata": {},
   "outputs": [],
   "source": [
    "w = np.linspace(-5.5, -2.5, 100)\n",
    "k = 0.5 * np.pi\n",
    "eta = 0.005"
   ]
  },
  {
   "cell_type": "markdown",
   "metadata": {},
   "source": [
    "Solve the systems using the provided `spectrum()` method. Note that the results are always of shape `(n_k, n_w)`, even for when only a single `k`-point is provided. That case, the shape will be `(1, n_w)`."
   ]
  },
  {
   "cell_type": "code",
   "execution_count": null,
   "metadata": {},
   "outputs": [],
   "source": [
    "spectrum_sparse = executor_sparse.spectrum(k, w, eta)\n",
    "spectrum_dense = executor_dense.spectrum(k, w, eta)"
   ]
  },
  {
   "cell_type": "markdown",
   "metadata": {},
   "source": [
    "We can plot the results and show clearly that the results are the same, and barring normalizations due to different grid spacings, identical to the literature results."
   ]
  },
  {
   "cell_type": "code",
   "execution_count": null,
   "metadata": {
    "tags": []
   },
   "outputs": [],
   "source": [
    "fig, ax = plt.subplots(1, 1, figsize=(3, 2))\n",
    "ax.plot(w, spectrum_sparse[0] / spectrum_sparse[0].max(), 'k')\n",
    "ax.plot(w, spectrum_dense[0] / spectrum_dense[0].max(), 'b--')\n",
    "ax.plot(literature_data[:, 0], literature_data[:, 1], 'r--', linewidth=0.5)\n",
    "ax.set_ylabel(\"$A(\\pi/2, \\omega) / \\max A(\\pi/2, \\omega)$\")\n",
    "ax.set_xlabel(\"$\\omega$\")\n",
    "plt.show()"
   ]
  },
  {
   "cell_type": "markdown",
   "metadata": {},
   "source": [
    "## Visualizing the closure"
   ]
  },
  {
   "cell_type": "markdown",
   "metadata": {},
   "source": [
    "It can also be instructive to visualize the closure of equations generated by the system. Since there are too many terms to make sense of in the case of `M=3, N=9`, let's create a smaller test example and look at that. The `BaseExecutor` object provides easy access in the following way:"
   ]
  },
  {
   "cell_type": "code",
   "execution_count": null,
   "metadata": {},
   "outputs": [],
   "source": [
    "model = Model()\n",
    "model.set_parameters(hopping=1.0)\n",
    "model.add_coupling(\"BondPeierls\", Omega=1.25, M=2, N=2, coupling=1.0)\n",
    "executor_dense = SerialDenseExecutor(model, \"error\")  # Suppress logging\n",
    "executor_dense._prime_system()  # Call a usually private method to manually prime the computation\n",
    "system = executor_dense.get_system()\n",
    "\n",
    "k = 0.123\n",
    "w = -0.456\n",
    "eta = 0.005\n",
    "system.visualize(generalized=False, coef=(k, w, eta))"
   ]
  },
  {
   "cell_type": "markdown",
   "metadata": {},
   "source": [
    "Let's unpack what's above. First there are numbers above horizontal line breaks. These numbers represent a separation of the equations of motion in terms of total phonon number as indexed by the un-indented term. For example, in the case of\n",
    "\n",
    "```\n",
    "1\n",
    "-------\n",
    "...\n",
    "```\n",
    "\n",
    "we have `{[[1]]}(!)<!>[0.0]`, where one can see that there is one phonon total in the auxiliary Green's function, `{[[1]]}`. Similarly, for 2, one example is `{[[1, 1]]}(!)<!>[0.0]`, which corresponds to one phonon on site $i$ and one on site $i+1.$\n",
    "\n",
    "Next, we note that Auxiliary Green's functions (AGF) as defined in our [arXiv preprint](https://arxiv.org/pdf/2103.01972.pdf) have two indexes. The first is $\\mathbf{n} = [n_0, n_1, ..., n_{L-1}],$ which we've already described, and indexes the phonons on the lattice. The second is $\\delta$ such that we have AGF $f_\\mathbf{n}(\\delta),$ where $\\delta$ indexes a few critical components of the term including a complex phase shift to the prefactor. This is the next part of what's printed."
   ]
  },
  {
   "cell_type": "code",
   "execution_count": null,
   "metadata": {},
   "outputs": [],
   "source": [
    " "
   ]
  }
 ],
 "metadata": {
  "kernelspec": {
   "display_name": "Python 3",
   "language": "python",
   "name": "python3"
  },
  "language_info": {
   "codemirror_mode": {
    "name": "ipython",
    "version": 3
   },
   "file_extension": ".py",
   "mimetype": "text/x-python",
   "name": "python",
   "nbconvert_exporter": "python",
   "pygments_lexer": "ipython3",
   "version": "3.7.10"
  },
  "toc": {
   "base_numbering": 1,
   "nav_menu": {},
   "number_sections": true,
   "sideBar": true,
   "skip_h1_title": false,
   "title_cell": "Table of Contents",
   "title_sidebar": "Contents",
   "toc_cell": false,
   "toc_position": {
    "height": "calc(100% - 180px)",
    "left": "10px",
    "top": "150px",
    "width": "165px"
   },
   "toc_section_display": true,
   "toc_window_display": true
  }
 },
 "nbformat": 4,
 "nbformat_minor": 4
}
